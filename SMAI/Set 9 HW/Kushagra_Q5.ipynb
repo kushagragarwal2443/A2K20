{
 "cells": [
  {
   "cell_type": "markdown",
   "metadata": {},
   "source": [
    "# Excercise 2\n",
    "\n",
    "In Excercise 1, we computed the LDA for a multi-class problem, the IRIS dataset. In this excercise, we will now compare the LDA and PCA for the IRIS dataset.\n",
    "\n",
    "To revisit, the iris dataset contains measurements for 150 iris flowers from three different species.\n",
    "\n",
    "The three classes in the Iris dataset:\n",
    "1. Iris-setosa (n=50)\n",
    "2. Iris-versicolor (n=50)\n",
    "3. Iris-virginica (n=50)\n",
    "\n",
    "The four features of the Iris dataset:\n",
    "1. sepal length in cm\n",
    "2. sepal width in cm\n",
    "3. petal length in cm\n",
    "4. petal width in cm\n",
    "\n",
    "<img src=\"iris_petal_sepal.png\">\n",
    "\n"
   ]
  },
  {
   "cell_type": "code",
   "execution_count": 18,
   "metadata": {},
   "outputs": [],
   "source": [
    "from sklearn.datasets import make_classification\n",
    "import matplotlib.pyplot as plt\n",
    "import numpy as np\n",
    "import seaborn as sns; sns.set();\n",
    "import pandas as pd\n",
    "from sklearn.model_selection import train_test_split\n",
    "from numpy import pi"
   ]
  },
  {
   "cell_type": "markdown",
   "metadata": {},
   "source": [
    "### Importing the dataset"
   ]
  },
  {
   "cell_type": "code",
   "execution_count": 19,
   "metadata": {},
   "outputs": [
    {
     "data": {
      "text/html": [
       "<div>\n",
       "<style scoped>\n",
       "    .dataframe tbody tr th:only-of-type {\n",
       "        vertical-align: middle;\n",
       "    }\n",
       "\n",
       "    .dataframe tbody tr th {\n",
       "        vertical-align: top;\n",
       "    }\n",
       "\n",
       "    .dataframe thead th {\n",
       "        text-align: right;\n",
       "    }\n",
       "</style>\n",
       "<table border=\"1\" class=\"dataframe\">\n",
       "  <thead>\n",
       "    <tr style=\"text-align: right;\">\n",
       "      <th></th>\n",
       "      <th>sepal-length</th>\n",
       "      <th>sepal-width</th>\n",
       "      <th>petal-length</th>\n",
       "      <th>petal-width</th>\n",
       "      <th>Class</th>\n",
       "    </tr>\n",
       "  </thead>\n",
       "  <tbody>\n",
       "    <tr>\n",
       "      <th>145</th>\n",
       "      <td>6.7</td>\n",
       "      <td>3.0</td>\n",
       "      <td>5.2</td>\n",
       "      <td>2.3</td>\n",
       "      <td>Iris-virginica</td>\n",
       "    </tr>\n",
       "    <tr>\n",
       "      <th>146</th>\n",
       "      <td>6.3</td>\n",
       "      <td>2.5</td>\n",
       "      <td>5.0</td>\n",
       "      <td>1.9</td>\n",
       "      <td>Iris-virginica</td>\n",
       "    </tr>\n",
       "    <tr>\n",
       "      <th>147</th>\n",
       "      <td>6.5</td>\n",
       "      <td>3.0</td>\n",
       "      <td>5.2</td>\n",
       "      <td>2.0</td>\n",
       "      <td>Iris-virginica</td>\n",
       "    </tr>\n",
       "    <tr>\n",
       "      <th>148</th>\n",
       "      <td>6.2</td>\n",
       "      <td>3.4</td>\n",
       "      <td>5.4</td>\n",
       "      <td>2.3</td>\n",
       "      <td>Iris-virginica</td>\n",
       "    </tr>\n",
       "    <tr>\n",
       "      <th>149</th>\n",
       "      <td>5.9</td>\n",
       "      <td>3.0</td>\n",
       "      <td>5.1</td>\n",
       "      <td>1.8</td>\n",
       "      <td>Iris-virginica</td>\n",
       "    </tr>\n",
       "  </tbody>\n",
       "</table>\n",
       "</div>"
      ],
      "text/plain": [
       "     sepal-length  sepal-width  petal-length  petal-width           Class\n",
       "145           6.7          3.0           5.2          2.3  Iris-virginica\n",
       "146           6.3          2.5           5.0          1.9  Iris-virginica\n",
       "147           6.5          3.0           5.2          2.0  Iris-virginica\n",
       "148           6.2          3.4           5.4          2.3  Iris-virginica\n",
       "149           5.9          3.0           5.1          1.8  Iris-virginica"
      ]
     },
     "execution_count": 19,
     "metadata": {},
     "output_type": "execute_result"
    }
   ],
   "source": [
    "url = \"https://archive.ics.uci.edu/ml/machine-learning-databases/iris/iris.data\"\n",
    "names = ['sepal-length', 'sepal-width', 'petal-length', 'petal-width', 'Class']\n",
    "dataset = pd.read_csv(url, names=names)\n",
    "\n",
    "dataset.tail()"
   ]
  },
  {
   "cell_type": "markdown",
   "metadata": {},
   "source": [
    "### Data preprocessing\n",
    "\n",
    "Once dataset is loaded into a pandas data frame object, the first step is to divide dataset into features and corresponding labels and then divide the resultant dataset into training and test sets. The following code divides data into labels and feature set:"
   ]
  },
  {
   "cell_type": "code",
   "execution_count": 20,
   "metadata": {},
   "outputs": [],
   "source": [
    "X = dataset.iloc[:, 0:4].values\n",
    "y = dataset.iloc[:, 4].values"
   ]
  },
  {
   "cell_type": "markdown",
   "metadata": {},
   "source": [
    "The above script assigns the first four columns of the dataset i.e. the feature set to X variable while the values in the fifth column (labels) are assigned to the y variable.\n",
    "\n",
    "The following code divides data into training and test sets:"
   ]
  },
  {
   "cell_type": "code",
   "execution_count": 21,
   "metadata": {},
   "outputs": [],
   "source": [
    "from sklearn.model_selection import train_test_split\n",
    "\n",
    "X_train, X_test, y_train, y_test = train_test_split(X, y, test_size=0.2, random_state=0)"
   ]
  },
  {
   "cell_type": "markdown",
   "metadata": {},
   "source": [
    "#### Feature Scaling\n",
    "\n",
    "We will now perform feature scaling as part of data preprocessing too. For this task, we will be using scikit learn `StandardScalar`."
   ]
  },
  {
   "cell_type": "code",
   "execution_count": 22,
   "metadata": {},
   "outputs": [],
   "source": [
    "from sklearn.preprocessing import StandardScaler\n",
    "\n",
    "sc = StandardScaler()\n",
    "X_train = sc.fit_transform(X_train)\n",
    "X_test = sc.transform(X_test)"
   ]
  },
  {
   "cell_type": "markdown",
   "metadata": {},
   "source": [
    "## Write your code below\n",
    "\n",
    "Write your code to compute the PCA and LDA on the IRIS dataset below."
   ]
  },
  {
   "cell_type": "markdown",
   "metadata": {},
   "source": [
    "### Kushagra Agarwal 2018113012\n"
   ]
  },
  {
   "cell_type": "code",
   "execution_count": 23,
   "metadata": {},
   "outputs": [],
   "source": [
    "def plot_PCA(X_input,label):\n",
    "    \n",
    "    '''This function plots PCA results'''\n",
    "    \n",
    "    data = pd.DataFrame(X_input)\n",
    "    data['class'] = label\n",
    "    data.columns=[\"PC1\",\"PC2\",\"class\"]\n",
    "    data.head()\n",
    "    markers = ['o', 'x','s']\n",
    "    colors = ['b', 'g','r']\n",
    "    customPalette = sns.set_palette(sns.color_palette(colors))\n",
    "    sns.lmplot(x=\"PC1\", y=\"PC2\", data=data, hue='class', markers=markers,fit_reg=False,legend=False)\n",
    "    plt.legend(loc='upper center')\n",
    "    plt.show()\n",
    "    \n",
    "def plot_LDA(X_input,label):\n",
    "    \n",
    "    '''This function plots LDA results'''\n",
    "    \n",
    "    data = pd.DataFrame(X_input)\n",
    "    data['class'] = label\n",
    "    data.columns=[\"LD1\",\"LD2\",\"class\"]\n",
    "    data.head()\n",
    "    markers = ['o', 'x','s']\n",
    "    colors = ['b', 'g','r']\n",
    "    customPalette = sns.set_palette(sns.color_palette(colors))\n",
    "    sns.lmplot(x=\"LD1\", y=\"LD2\", data=data, hue='class', markers=markers,fit_reg=False,legend=False)\n",
    "    plt.legend(loc='upper center')\n",
    "    plt.show()\n",
    "\n",
    "def PCA(X_input):\n",
    "    \n",
    "    '''This function computes PCA weights (unsupervised algo only takes X)'''\n",
    "\n",
    "    X_mean = np.mean(X_input, axis=0)\n",
    "    X_mean = X_mean.reshape(1, -1)\n",
    "    X_input -= X_mean\n",
    "    num_examples = (X_input.shape)[0]\n",
    "    constant = 1/(num_examples - 1)\n",
    "    cov_matrix = constant * np.dot(X_input.T, X_input)\n",
    "    cov_matrix = np.array(cov_matrix, dtype=float)\n",
    "\n",
    "    eigvals, eigvecs = np.linalg.eig(cov_matrix)\n",
    "    idx = np.real(eigvals).argsort()[::-1]\n",
    "    weights = np.atleast_1d(eigvecs[:, idx])[:, :2]\n",
    "    \n",
    "    return np.real(weights)\n",
    "\n",
    "def LDA(X_train, y_train):\n",
    "    \n",
    "    '''This function computes LDA weights (supervised algo takes both X and Y (labels))'''\n",
    "    \n",
    "    class_1 = X_train[np.argwhere(y_train == 'Iris-setosa')[:, 0:4]].reshape(-1,4)\n",
    "    class_2 = X_train[np.argwhere(y_train == 'Iris-versicolor')[:, 0:4]].reshape(-1,4)\n",
    "    class_3 = X_train[np.argwhere(y_train == 'Iris-virginica')[:, 0:4]].reshape(-1,4)\n",
    "    num_class_1_samples = np.shape(class_1)[0]\n",
    "    num_class_2_samples = np.shape(class_2)[0]\n",
    "    num_class_3_samples = np.shape(class_3)[0]\n",
    "    class_1_mean = np.mean(class_1,axis = 0).reshape(4,1);\n",
    "    class_2_mean = np.mean(class_2,axis = 0).reshape(4,1);\n",
    "    class_3_mean = np.mean(class_3,axis = 0).reshape(4,1);\n",
    "    overall_mean = np.mean(X_train,axis=0).reshape(4,1);\n",
    "    SB_1 = num_class_1_samples*(class_1_mean-overall_mean)@(class_1_mean-overall_mean).T;\n",
    "    SB_2 = num_class_2_samples*(class_2_mean-overall_mean)@(class_2_mean-overall_mean).T;\n",
    "    SB_3 = num_class_3_samples*(class_3_mean-overall_mean)@(class_3_mean-overall_mean).T;\n",
    "    SB = SB_1 + SB_2 + SB_3;\n",
    "    cov_1 = (class_1.T - class_1_mean)@(class_1.T - class_1_mean).T\n",
    "    cov_2 = (class_2.T - class_2_mean)@(class_2.T - class_2_mean).T\n",
    "    cov_3 = (class_3.T - class_3_mean)@(class_3.T - class_3_mean).T\n",
    "    SW = cov_1 + cov_2 + cov_3;\n",
    "\n",
    "    eigvals, eigvecs = np.linalg.eig(np.linalg.pinv(SW)@(SB))\n",
    "    idx = np.real(eigvals).argsort()[::-1]\n",
    "    weights = np.atleast_1d(eigvecs[:, idx])[:, :2]\n",
    "    \n",
    "    return np.real(weights)"
   ]
  },
  {
   "cell_type": "code",
   "execution_count": 24,
   "metadata": {},
   "outputs": [],
   "source": [
    "# Computing weights for the 2 algorithms\n",
    "\n",
    "# PCA takes only X as input (unsupervised algorithm)\n",
    "pca_weights = PCA(X)\n",
    "\n",
    "# LDA takes both X and y as input (supervised algorithm)\n",
    "lda_weights = LDA(X,y)"
   ]
  },
  {
   "cell_type": "code",
   "execution_count": 25,
   "metadata": {},
   "outputs": [],
   "source": [
    "X_pca = X@pca_weights\n",
    "X_lda = X@lda_weights"
   ]
  },
  {
   "cell_type": "code",
   "execution_count": 26,
   "metadata": {},
   "outputs": [
    {
     "name": "stdout",
     "output_type": "stream",
     "text": [
      "PCA\n"
     ]
    },
    {
     "data": {
      "image/png": "[encoded data removed]",
      "text/plain": [
       "<Figure size 360x360 with 1 Axes>"
      ]
     },
     "metadata": {},
     "output_type": "display_data"
    },
    {
     "name": "stdout",
     "output_type": "stream",
     "text": [
      "LDA\n"
     ]
    },
    {
     "data": {
      "image/png": "[encoded data removed]",
      "text/plain": [
       "<Figure size 360x360 with 1 Axes>"
      ]
     },
     "metadata": {},
     "output_type": "display_data"
    }
   ],
   "source": [
    "# Plotting the results for both\n",
    "\n",
    "print(\"PCA\")\n",
    "plot_PCA(X_pca,y)\n",
    "\n",
    "print(\"LDA\")\n",
    "plot_LDA(X_lda,y)"
   ]
  },
  {
   "cell_type": "markdown",
   "metadata": {},
   "source": [
    "## Comments\n",
    "\n",
    "From the plots it is clear that LDA gives a better feature space than PCA.\n",
    "<br>\n",
    "<br>\n",
    "The overlap in LDA is lesser than that in PCA. It is not completely separated as we are projecting 4 features into a single feature space.\n",
    "<br>\n",
    "<br>\n",
    "The difference in plots arises due to the different approaches by the 2 algorithms.\n",
    "<br>\n",
    "i) PCA chooses the direction unsupervisely that have the maximum variance<br>\n",
    "ii) LDA is a supervised algorithm and chooses the directions that maximize the between class variance and minimize within class variance. \n",
    "<br>\n",
    "<br>\n",
    "Where PCA accounted for the most variance in the whole dataset, LDA gives us the axes that account for the most variance between the individual classes."
   ]
  }
 ],
 "metadata": {
  "kernelspec": {
   "display_name": "Python 3",
   "language": "python",
   "name": "python3"
  },
  "language_info": {
   "codemirror_mode": {
    "name": "ipython",
    "version": 3
   },
   "file_extension": ".py",
   "mimetype": "text/x-python",
   "name": "python",
   "nbconvert_exporter": "python",
   "pygments_lexer": "ipython3",
   "version": "3.8.5"
  }
 },
 "nbformat": 4,
 "nbformat_minor": 2
}
