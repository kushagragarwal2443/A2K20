{
 "cells": [
  {
   "cell_type": "markdown",
   "metadata": {},
   "source": [
    "# Kushagra Agarwal 2018113012 Q4"
   ]
  },
  {
   "cell_type": "markdown",
   "metadata": {},
   "source": [
    "## Function to find most frequent k-mers with d-mismatches"
   ]
  },
  {
   "cell_type": "code",
   "execution_count": 1,
   "metadata": {},
   "outputs": [],
   "source": [
    "def neighbourhood(pattern, d):\n",
    "    \n",
    "    '''This function returns an array of all the neighbours with less than or equal to d mismatches from the input pattern'''\n",
    "    \n",
    "    neighbours=[pattern]\n",
    "    \n",
    "    #Do this step d times to get all seqeunces <=d mismatches\n",
    "    for j in range(d):\n",
    "        \n",
    "        neighbourscopy=[]\n",
    "        \n",
    "        for k in neighbours:\n",
    "            \n",
    "            len1 = len(k)\n",
    "            for i in range(len1):\n",
    "                \n",
    "                #Forming 9*3 permutations for a 9mer which gives us 27 9-mers which are at distance 1 from the seq\n",
    "                \n",
    "                temppattern1 = k[:i]+\"A\"+k[i+1:]\n",
    "                temppattern2 = k[:i]+\"G\"+k[i+1:]\n",
    "                temppattern3 = k[:i]+\"T\"+k[i+1:]\n",
    "                temppattern4 = k[:i]+\"C\"+k[i+1:]\n",
    "                \n",
    "                \n",
    "                if(temppattern1 not in neighbours and temppattern1 not in neighbourscopy):\n",
    "                    neighbourscopy.append(temppattern1)\n",
    "                if(temppattern2 not in neighbours and temppattern2 not in neighbourscopy):\n",
    "                    neighbourscopy.append(temppattern2)\n",
    "                if(temppattern3 not in neighbours and temppattern3 not in neighbourscopy):\n",
    "                    neighbourscopy.append(temppattern3)\n",
    "                if(temppattern4 not in neighbours and temppattern4 not in neighbourscopy):\n",
    "                    neighbourscopy.append(temppattern4)\n",
    "                    \n",
    "        for k in neighbourscopy:\n",
    "            if(k not in neighbours):\n",
    "                neighbours.append(k)\n",
    "                    \n",
    "    return neighbours\n",
    "        \n",
    "\n",
    "def most_freq_kmers_dmismatches(sequence, k, d):\n",
    "    \n",
    "    '''This is the driver function finding the most freq kmers with d mismatches in a sequence'''\n",
    "    \n",
    "    most_freq_kmers=[]\n",
    "    sequence = sequence.upper()\n",
    "    \n",
    "    dicti = dict()\n",
    "    len0 = len(sequence)\n",
    "    for i in range(len0-k+1):\n",
    "        \n",
    "        pattern = sequence[i:(i+k)]\n",
    "        \n",
    "        revpattern = \"\"\n",
    "        len1 = len(pattern)\n",
    "        for j in range(len1):\n",
    "            \n",
    "            base = pattern[len1-j-1]\n",
    "            if(base == \"A\"):\n",
    "                revpattern+=(\"T\")\n",
    "            elif(base == \"T\"):\n",
    "                revpattern+=(\"A\")\n",
    "            elif(base == \"G\"):\n",
    "                revpattern+=(\"C\")\n",
    "            elif(base == \"C\"):\n",
    "                revpattern+=(\"G\")\n",
    "        \n",
    "        #Find neighbours for the 9mer\n",
    "        neighbours1 = neighbourhood(pattern, d)\n",
    "        #Find neighbours for the reverse compliment for the 9mer\n",
    "        neighbours2 = neighbourhood(revpattern, d)\n",
    "       \n",
    "        #Remove repeatitions from the two lists\n",
    "        neighbours= neighbours2\n",
    "        for m in neighbours1:\n",
    "            if m not in neighbours2:\n",
    "                neighbours.append(m)\n",
    "             \n",
    "        #Increase freq for all 9mers in the neighbours array\n",
    "        for s in neighbours:\n",
    "            if(s not in dicti):\n",
    "                dicti[s]=1\n",
    "            else:\n",
    "                dicti[s]+=1  \n",
    "       \n",
    "    all_values = dicti.values()\n",
    "    max_value = max(all_values)\n",
    "    \n",
    "    #Find all sequences with highest freqeuncy\n",
    "    for keys in dicti:\n",
    "        if(dicti[keys]==max_value):\n",
    "            most_freq_kmers.append(keys)\n",
    "#             print(keys, dicti[keys])\n",
    "            \n",
    "    return most_freq_kmers"
   ]
  },
  {
   "cell_type": "markdown",
   "metadata": {},
   "source": [
    "## Loading the sequences from the fasta files for NC_002505.1, NC_002506.1 and NC_003198.1"
   ]
  },
  {
   "cell_type": "code",
   "execution_count": 2,
   "metadata": {},
   "outputs": [
    {
     "name": "stdout",
     "output_type": "stream",
     "text": [
      "2961149\n"
     ]
    }
   ],
   "source": [
    "file1 = open(\"sequenceVibrio1.fasta\")\n",
    "sequenceVibrio1=\"\"\n",
    "for line in file1:\n",
    "    if(line[0]!=\">\"):\n",
    "        sequenceVibrio1+=line[:-1]\n",
    "print(len(sequenceVibrio1))"
   ]
  },
  {
   "cell_type": "code",
   "execution_count": 3,
   "metadata": {},
   "outputs": [
    {
     "name": "stdout",
     "output_type": "stream",
     "text": [
      "1072315\n"
     ]
    }
   ],
   "source": [
    "file2 = open(\"sequenceVibrio2.fasta\")\n",
    "sequenceVibrio2=\"\"\n",
    "for line in file2:\n",
    "    if(line[0]!=\">\"):\n",
    "        sequenceVibrio2+=line[:-1]\n",
    "print(len(sequenceVibrio2))"
   ]
  },
  {
   "cell_type": "code",
   "execution_count": 4,
   "metadata": {},
   "outputs": [
    {
     "name": "stdout",
     "output_type": "stream",
     "text": [
      "4809037\n"
     ]
    }
   ],
   "source": [
    "file3 = open(\"sequenceSalmonella.fasta\")\n",
    "sequenceSalmonella=\"\"\n",
    "for line in file3:\n",
    "    if(line[0]!=\">\"):\n",
    "        sequenceSalmonella+=line[:-1]\n",
    "print(len(sequenceSalmonella))"
   ]
  },
  {
   "cell_type": "markdown",
   "metadata": {},
   "source": [
    "## Calculating most frequent k-mer with d=0 mismatches (exact matches)"
   ]
  },
  {
   "cell_type": "markdown",
   "metadata": {},
   "source": [
    "### For Vibrio Cholerae genome = ['TTTGAGTTT', 'AAACTCAAA']"
   ]
  },
  {
   "cell_type": "code",
   "execution_count": 5,
   "metadata": {},
   "outputs": [
    {
     "name": "stdout",
     "output_type": "stream",
     "text": [
      "['TTTGAGTTT', 'AAACTCAAA']\n"
     ]
    }
   ],
   "source": [
    "print(most_freq_kmers_dmismatches(str(sequenceVibrio1+sequenceVibrio2), 9, 0))"
   ]
  },
  {
   "cell_type": "markdown",
   "metadata": {},
   "source": [
    "### For Salmonella enterica = ['CGCCAGCGC', 'GCGCTGGCG']"
   ]
  },
  {
   "cell_type": "code",
   "execution_count": 6,
   "metadata": {},
   "outputs": [
    {
     "name": "stdout",
     "output_type": "stream",
     "text": [
      "['CGCCAGCGC', 'GCGCTGGCG']\n"
     ]
    }
   ],
   "source": [
    "print(most_freq_kmers_dmismatches(sequenceSalmonella, 9, 0))"
   ]
  },
  {
   "cell_type": "markdown",
   "metadata": {},
   "source": [
    "## Calculating most frequent k-mer with d=1 mismatch"
   ]
  },
  {
   "cell_type": "markdown",
   "metadata": {},
   "source": [
    "### For Vibrio Cholerae genome = ['CATCATCAA', 'TTGATGATG']"
   ]
  },
  {
   "cell_type": "code",
   "execution_count": null,
   "metadata": {},
   "outputs": [],
   "source": [
    "print(most_freq_kmers_dmismatches(str(sequenceVibrio1+sequenceVibrio2), 9, 1))"
   ]
  },
  {
   "cell_type": "markdown",
   "metadata": {},
   "source": [
    "### For Salmonella enterica = ['GCGCTGGCG', 'CGCCAGCGC']"
   ]
  },
  {
   "cell_type": "code",
   "execution_count": 99,
   "metadata": {},
   "outputs": [
    {
     "name": "stdout",
     "output_type": "stream",
     "text": [
      "GCGCTGGCG 7566\n",
      "CGCCAGCGC 7566\n",
      "['GCGCTGGCG', 'CGCCAGCGC']\n"
     ]
    }
   ],
   "source": [
    "print(most_freq_kmers_dmismatches(sequenceSalmonella, 9, 1))"
   ]
  },
  {
   "cell_type": "markdown",
   "metadata": {},
   "source": [
    "## Conclusion"
   ]
  },
  {
   "cell_type": "markdown",
   "metadata": {},
   "source": [
    "The most frequent k-mers (k=9) for Vibrio and Salmonella are not the same for both d=0 and d=1 mismatches allowed, as can be seen from the results above.  "
   ]
  },
  {
   "cell_type": "markdown",
   "metadata": {},
   "source": [
    "## Plotting GC skew"
   ]
  },
  {
   "cell_type": "code",
   "execution_count": 46,
   "metadata": {},
   "outputs": [
    {
     "name": "stdout",
     "output_type": "stream",
     "text": [
      "4033464\n"
     ]
    },
    {
     "data": {
      "image/png": "[encoded data removed]",
      "text/plain": [
       "<Figure size 720x360 with 1 Axes>"
      ]
     },
     "metadata": {
      "needs_background": "light"
     },
     "output_type": "display_data"
    }
   ],
   "source": [
    "gc_skew=[] # to store G+C content\n",
    "window = 50000 # Window of 50kb used\n",
    "sequence = sequenceVibrio1 + sequenceVibrio2\n",
    "print(len(sequence))\n",
    "store_sign_changes=[] # This array stores positions of all windows where sign change of GC skew took place\n",
    "prev_val = 0 #initialising\n",
    "\n",
    "for i in range(0,len(sequence),window):\n",
    "    \n",
    "    region = sequence[i:i+window]\n",
    "    \n",
    "    # To store individual bases counts in the window\n",
    "    count_A,count_G, count_T, count_C = 0,0,0,0\n",
    "    \n",
    "    for j in range(len(region)):\n",
    "        \n",
    "        if(region[j]==\"A\"):\n",
    "            count_A+=1\n",
    "        if(region[j]==\"T\"):\n",
    "            count_T+=1\n",
    "        if(region[j]==\"G\"):\n",
    "            count_G+=1\n",
    "        if(region[j]==\"C\"):\n",
    "            count_C+=1\n",
    "            \n",
    "    # computing the various quantities\n",
    "    val = (count_G - count_C)/ (count_G + count_C)\n",
    "    \n",
    "    #Computing sign change windows\n",
    "    if(val*prev_val<0):\n",
    "        store_sign_changes.append((i-window,i))\n",
    "        \n",
    "    prev_val = val #update\n",
    "    \n",
    "    # Append to the respective arrays\n",
    "    gc_skew.append(val)\n",
    "    \n",
    "import matplotlib.pyplot as plt\n",
    "import numpy as np\n",
    "x_axis=[]\n",
    "for i in range(len(gc_skew)):\n",
    "    x_axis.append((i+1))\n",
    "plt.figure(figsize=(10,5))\n",
    "plt.plot(x_axis, gc_skew)\n",
    "plt.plot(x_axis,np.zeros(len(x_axis)))\n",
    "plt.legend([\"GC skew\" ],loc=\"best\")\n",
    "plt.show()"
   ]
  },
  {
   "cell_type": "code",
   "execution_count": 32,
   "metadata": {},
   "outputs": [
    {
     "name": "stdout",
     "output_type": "stream",
     "text": [
      "[(1550000, 1600000), (2900000, 2950000), (3400000, 3450000)]\n"
     ]
    }
   ],
   "source": [
    "print(store_sign_changes)"
   ]
  },
  {
   "cell_type": "markdown",
   "metadata": {},
   "source": [
    "## From the plot and the array it is evident that the GC skew changes signs around \n",
    "\n",
    "**1) 1550000-1600000 (positive to negative)**\n",
    "\n",
    "**2) 2900000-2950000 (negative to positive)**\n",
    "\n",
    "**3) 3400000-3450000 ( positive to negative)**\n",
    "\n",
    "## We find the most freq 9mers in these regions"
   ]
  },
  {
   "cell_type": "markdown",
   "metadata": {},
   "source": [
    "### Finding most frequent 9mer in region 1550000-1600000"
   ]
  },
  {
   "cell_type": "markdown",
   "metadata": {},
   "source": [
    "* Exact match (d=0): __['GGCTTTTTT', 'AAAAAAGCC']__"
   ]
  },
  {
   "cell_type": "code",
   "execution_count": 40,
   "metadata": {},
   "outputs": [
    {
     "name": "stdout",
     "output_type": "stream",
     "text": [
      "['GGCTTTTTT', 'AAAAAAGCC']\n"
     ]
    }
   ],
   "source": [
    "print(most_freq_kmers_dmismatches(str(sequenceVibrio1+sequenceVibrio2)[1550000:1600000], 9, 0))"
   ]
  },
  {
   "cell_type": "markdown",
   "metadata": {},
   "source": [
    "* 1 mismatch allowed (d=1): __['GGTTTTTTT', 'AAAAAAACC']__"
   ]
  },
  {
   "cell_type": "code",
   "execution_count": 41,
   "metadata": {},
   "outputs": [
    {
     "name": "stdout",
     "output_type": "stream",
     "text": [
      "['GGTTTTTTT', 'AAAAAAACC']\n"
     ]
    }
   ],
   "source": [
    "print(most_freq_kmers_dmismatches(str(sequenceVibrio1+sequenceVibrio2)[1550000:1600000], 9, 1))"
   ]
  },
  {
   "cell_type": "markdown",
   "metadata": {},
   "source": [
    "### Finding most frequent 9mer in region 2900000-2950000"
   ]
  },
  {
   "cell_type": "markdown",
   "metadata": {},
   "source": [
    "* Exact match (d=0): __['CAAGATTTT', 'AAAATCTTG']__"
   ]
  },
  {
   "cell_type": "code",
   "execution_count": 42,
   "metadata": {},
   "outputs": [
    {
     "name": "stdout",
     "output_type": "stream",
     "text": [
      "['CAAGATTTT', 'AAAATCTTG']\n"
     ]
    }
   ],
   "source": [
    "print(most_freq_kmers_dmismatches(str(sequenceVibrio1+sequenceVibrio2)[2900000:2950000], 9, 0))"
   ]
  },
  {
   "cell_type": "markdown",
   "metadata": {},
   "source": [
    "* 1 mismatch allowed (d=1): __['AAGCGCTTG', 'CAAGCGCTT', 'GTGATGGTG', 'CACCATCAC']__"
   ]
  },
  {
   "cell_type": "code",
   "execution_count": 43,
   "metadata": {},
   "outputs": [
    {
     "name": "stdout",
     "output_type": "stream",
     "text": [
      "['AAGCGCTTG', 'CAAGCGCTT', 'GTGATGGTG', 'CACCATCAC']\n"
     ]
    }
   ],
   "source": [
    "print(most_freq_kmers_dmismatches(str(sequenceVibrio1+sequenceVibrio2)[2900000:2950000], 9, 1))"
   ]
  },
  {
   "cell_type": "markdown",
   "metadata": {},
   "source": [
    "### Finding most frequent 9mer in region 3400000-3450000"
   ]
  },
  {
   "cell_type": "markdown",
   "metadata": {},
   "source": [
    "* Exact match (d=0): __['ATTGAGCAA', 'TTGCTCAAT', 'TTCATCAAT', 'ATTGATGAA']__"
   ]
  },
  {
   "cell_type": "code",
   "execution_count": 44,
   "metadata": {},
   "outputs": [
    {
     "name": "stdout",
     "output_type": "stream",
     "text": [
      "['ATTGAGCAA', 'TTGCTCAAT', 'TTCATCAAT', 'ATTGATGAA']\n"
     ]
    }
   ],
   "source": [
    "print(most_freq_kmers_dmismatches(str(sequenceVibrio1+sequenceVibrio2)[3400000:3450000], 9, 0))"
   ]
  },
  {
   "cell_type": "markdown",
   "metadata": {},
   "source": [
    "* 1 mismatch allowed (d=1): __['TGAGCAAAA', 'TTTTGCTCA']__"
   ]
  },
  {
   "cell_type": "code",
   "execution_count": 45,
   "metadata": {},
   "outputs": [
    {
     "name": "stdout",
     "output_type": "stream",
     "text": [
      "['TGAGCAAAA', 'TTTTGCTCA']\n"
     ]
    }
   ],
   "source": [
    "print(most_freq_kmers_dmismatches(str(sequenceVibrio1+sequenceVibrio2)[3400000:3450000], 9, 1))"
   ]
  }
 ],
 "metadata": {
  "kernelspec": {
   "display_name": "Python 3",
   "language": "python",
   "name": "python3"
  },
  "language_info": {
   "codemirror_mode": {
    "name": "ipython",
    "version": 3
   },
   "file_extension": ".py",
   "mimetype": "text/x-python",
   "name": "python",
   "nbconvert_exporter": "python",
   "pygments_lexer": "ipython3",
   "version": "3.8.2"
  }
 },
 "nbformat": 4,
 "nbformat_minor": 4
}
