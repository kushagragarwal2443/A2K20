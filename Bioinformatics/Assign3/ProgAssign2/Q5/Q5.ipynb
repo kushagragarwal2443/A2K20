{
 "cells": [
  {
   "cell_type": "markdown",
   "metadata": {},
   "source": [
    "# Kushagra Agarwal 2018113012 Q5"
   ]
  },
  {
   "cell_type": "markdown",
   "metadata": {},
   "source": [
    "## Function to find most frequent k-mers with d-mismatches same as Q4"
   ]
  },
  {
   "cell_type": "code",
   "execution_count": 16,
   "metadata": {},
   "outputs": [],
   "source": [
    "def neighbourhood(pattern, d):\n",
    "    \n",
    "    neighbours=[pattern]\n",
    "    \n",
    "    for j in range(d):\n",
    "        \n",
    "        neighbourscopy=[]\n",
    "        \n",
    "        for k in neighbours:\n",
    "            \n",
    "            len1 = len(k)\n",
    "            for i in range(len1):\n",
    "                \n",
    "                temppattern1 = k[:i]+\"A\"+k[i+1:]\n",
    "                temppattern2 = k[:i]+\"G\"+k[i+1:]\n",
    "                temppattern3 = k[:i]+\"T\"+k[i+1:]\n",
    "                temppattern4 = k[:i]+\"C\"+k[i+1:]\n",
    "                \n",
    "                \n",
    "                if(temppattern1 not in neighbours and temppattern1 not in neighbourscopy):\n",
    "                    neighbourscopy.append(temppattern1)\n",
    "                if(temppattern2 not in neighbours and temppattern2 not in neighbourscopy):\n",
    "                    neighbourscopy.append(temppattern2)\n",
    "                if(temppattern3 not in neighbours and temppattern3 not in neighbourscopy):\n",
    "                    neighbourscopy.append(temppattern3)\n",
    "                if(temppattern4 not in neighbours and temppattern4 not in neighbourscopy):\n",
    "                    neighbourscopy.append(temppattern4)\n",
    "                    \n",
    "        for k in neighbourscopy:\n",
    "            if(k not in neighbours):\n",
    "                neighbours.append(k)\n",
    "                    \n",
    "    return neighbours\n",
    "        \n",
    "\n",
    "def most_freq_kmers_dmismatches(sequence, k, d):\n",
    "    \n",
    "    most_freq_kmers=[]\n",
    "    sequence = sequence.upper()\n",
    "    \n",
    "    dicti = dict()\n",
    "    len0 = len(sequence)\n",
    "    for i in range(len0-k+1):\n",
    "        \n",
    "        pattern = sequence[i:(i+k)]\n",
    "        \n",
    "        revpattern = \"\"\n",
    "        len1 = len(pattern)\n",
    "        for j in range(len1):\n",
    "            \n",
    "            base = pattern[len1-j-1]\n",
    "            if(base == \"A\"):\n",
    "                revpattern+=(\"T\")\n",
    "            elif(base == \"T\"):\n",
    "                revpattern+=(\"A\")\n",
    "            elif(base == \"G\"):\n",
    "                revpattern+=(\"C\")\n",
    "            elif(base == \"C\"):\n",
    "                revpattern+=(\"G\")\n",
    "        \n",
    "        \n",
    "        neighbours1 = neighbourhood(pattern, d)\n",
    "        neighbours2 = neighbourhood(revpattern, d)\n",
    "       \n",
    "        neighbours= neighbours2\n",
    "        for m in neighbours1:\n",
    "            if m not in neighbours2:\n",
    "                neighbours.append(m)\n",
    "                    \n",
    "        for s in neighbours:\n",
    "            if(s not in dicti):\n",
    "                dicti[s]=1\n",
    "            else:\n",
    "                dicti[s]+=1  \n",
    "       \n",
    "    all_values = dicti.values()\n",
    "    max_value = max(all_values)\n",
    "    \n",
    "    for keys in dicti:\n",
    "        if(dicti[keys]==max_value):\n",
    "            most_freq_kmers.append(keys)\n",
    "#             print(keys, dicti[keys])\n",
    "    \n",
    "    for keys in dicti:\n",
    "        if(dicti[keys]>50):\n",
    "            print(keys, dicti[keys])\n",
    "            \n",
    "    return most_freq_kmers"
   ]
  },
  {
   "cell_type": "markdown",
   "metadata": {},
   "source": [
    "## Loading the sequences from the fasta files for SARS-CoV-2 (NC_045512.2) and bat coronavirus (KY938558.1)"
   ]
  },
  {
   "cell_type": "code",
   "execution_count": 12,
   "metadata": {},
   "outputs": [
    {
     "name": "stdout",
     "output_type": "stream",
     "text": [
      "29903\n"
     ]
    }
   ],
   "source": [
    "file1 = open(\"sequenceSARS2.fasta\")\n",
    "sequenceSARS2=\"\"\n",
    "for line in file1:\n",
    "    if(line[0]!=\">\"):\n",
    "        sequenceSARS2+=line[:-1]\n",
    "print(len(sequenceSARS2))"
   ]
  },
  {
   "cell_type": "code",
   "execution_count": 3,
   "metadata": {},
   "outputs": [
    {
     "name": "stdout",
     "output_type": "stream",
     "text": [
      "28975\n"
     ]
    }
   ],
   "source": [
    "file1 = open(\"sequenceBatCov.fasta\")\n",
    "sequenceBatCoV=\"\"\n",
    "for line in file1:\n",
    "    if(line[0]!=\">\"):\n",
    "        sequenceBatCoV+=line[:-1]\n",
    "print(len(sequenceBatCoV))"
   ]
  },
  {
   "cell_type": "markdown",
   "metadata": {},
   "source": [
    "## Calculating most frequent k-mer with d=0 mismatches (exact matches)"
   ]
  },
  {
   "cell_type": "markdown",
   "metadata": {},
   "source": [
    "## For SARS-COV-2 (6-mer)"
   ]
  },
  {
   "cell_type": "code",
   "execution_count": 13,
   "metadata": {},
   "outputs": [
    {
     "name": "stdout",
     "output_type": "stream",
     "text": [
      "TTGTTA 70\n",
      "TAACAA 70\n",
      "TTTTAA 68\n",
      "TTAAAA 68\n",
      "TGTTTT 61\n",
      "AAAACA 61\n",
      "TTTCTT 61\n",
      "AAGAAA 61\n",
      "ACAACA 65\n",
      "TGTTGT 65\n",
      "AACAAT 63\n",
      "ATTGTT 63\n",
      "['TTGTTA', 'TAACAA']\n"
     ]
    }
   ],
   "source": [
    "print(most_freq_kmers_dmismatches(str(sequenceSARS2), 6, 0))"
   ]
  },
  {
   "cell_type": "markdown",
   "metadata": {},
   "source": [
    "## For Bat Cov (6-mer)"
   ]
  },
  {
   "cell_type": "code",
   "execution_count": 17,
   "metadata": {},
   "outputs": [
    {
     "name": "stdout",
     "output_type": "stream",
     "text": [
      "TGTTGT 56\n",
      "ACAACA 56\n",
      "ACACCA 53\n",
      "TGGTGT 53\n",
      "AAAACA 55\n",
      "TGTTTT 55\n",
      "TAACAA 51\n",
      "TTGTTA 51\n",
      "AAACAA 52\n",
      "TTGTTT 52\n",
      "ACAAAA 56\n",
      "TTTTGT 56\n",
      "TTAATG 52\n",
      "CATTAA 52\n",
      "['TGTTGT', 'ACAACA', 'ACAAAA', 'TTTTGT']\n"
     ]
    }
   ],
   "source": [
    "print(most_freq_kmers_dmismatches(str(sequenceBatCoV), 6, 0))"
   ]
  },
  {
   "cell_type": "markdown",
   "metadata": {},
   "source": [
    "# Analysing the 2 genomes"
   ]
  },
  {
   "cell_type": "markdown",
   "metadata": {},
   "source": [
    "### TGTTGT & ACAACA in SARS-COV-2 (65 occurences is 3rd most frequent) and in Bat CoV (56 freq is the most frequent 6mer). This suggests that the 2 genomes might have a distant relation between each other."
   ]
  },
  {
   "cell_type": "markdown",
   "metadata": {},
   "source": [
    "## GC percentage"
   ]
  },
  {
   "cell_type": "code",
   "execution_count": 18,
   "metadata": {},
   "outputs": [
    {
     "name": "stdout",
     "output_type": "stream",
     "text": [
      "Percentage of GC in the genome: 37.97 %\n"
     ]
    }
   ],
   "source": [
    "count_A, count_G, count_T, count_C = 0,0,0,0\n",
    "\n",
    "for j in range(0,len(sequenceSARS2)):\n",
    "    \n",
    "    if(sequenceSARS2[j]==\"A\"):\n",
    "        count_A+=1\n",
    "    if(sequenceSARS2[j]==\"T\"):\n",
    "        count_T+=1\n",
    "    if(sequenceSARS2[j]==\"G\"):\n",
    "        count_G+=1\n",
    "    if(sequenceSARS2[j]==\"C\"):\n",
    "        count_C+=1\n",
    "            \n",
    "gc_perc = (count_G + count_C)/(count_A + count_G + count_C + count_T)\n",
    "print(\"Percentage of GC in the genome: \"+str(int(gc_perc*10000)/100)+\" %\")"
   ]
  },
  {
   "cell_type": "markdown",
   "metadata": {},
   "source": [
    "### GC percentage is low in the SARS-CoV-2 genome suggesting that the thermal stability shall also be low (as GC has a triple bond which is energitically harder to break than a AT double bond). This is also backed by experimental results that SARS-CoV-2 is not stable at higher temperatures (K. H. Chan, et. al \"The Effects of Temperature and Relative Humidity on the Viability of the SARS Coronavirus\", Advances in Virology, vol. 2011, Article ID 734690, 7 pages, 2011. https://doi.org/10.1155/2011/734690)"
   ]
  }
 ],
 "metadata": {
  "kernelspec": {
   "display_name": "Python 3",
   "language": "python",
   "name": "python3"
  },
  "language_info": {
   "codemirror_mode": {
    "name": "ipython",
    "version": 3
   },
   "file_extension": ".py",
   "mimetype": "text/x-python",
   "name": "python",
   "nbconvert_exporter": "python",
   "pygments_lexer": "ipython3",
   "version": "3.8.2"
  }
 },
 "nbformat": 4,
 "nbformat_minor": 4
}
