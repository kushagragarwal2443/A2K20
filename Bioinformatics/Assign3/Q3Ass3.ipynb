{
 "cells": [
  {
   "cell_type": "code",
   "execution_count": 18,
   "metadata": {},
   "outputs": [],
   "source": [
    "import random\n",
    "from math import factorial"
   ]
  },
  {
   "cell_type": "code",
   "execution_count": 13,
   "metadata": {},
   "outputs": [
    {
     "name": "stdout",
     "output_type": "stream",
     "text": [
      "0.0167\n"
     ]
    }
   ],
   "source": [
    "count=0\n",
    "for j in range(10000):\n",
    "    init=0\n",
    "    for i in range(1000):\n",
    "        z=(random.randint(1,4))\n",
    "        if(z==1):\n",
    "            init+=1\n",
    "    if(init>=280):\n",
    "        count+=1\n",
    "\n",
    "print(count/10000)"
   ]
  },
  {
   "cell_type": "code",
   "execution_count": 14,
   "metadata": {},
   "outputs": [
    {
     "data": {
      "text/plain": [
       "0.016266666666666665"
      ]
     },
     "execution_count": 14,
     "metadata": {},
     "output_type": "execute_result"
    }
   ],
   "source": [
    "(0.0167 + 0.0152 + 0.0169)/3"
   ]
  },
  {
   "cell_type": "code",
   "execution_count": 15,
   "metadata": {},
   "outputs": [
    {
     "name": "stdout",
     "output_type": "stream",
     "text": [
      "45.0 0.09 0.05764800999999997 0.23347444049999988\n"
     ]
    }
   ],
   "source": [
    "a = 10*9/2\n",
    "b  = 0.3**2\n",
    "c = 0.7 ** 8\n",
    "print(a, b, c , a*b*c)"
   ]
  },
  {
   "cell_type": "code",
   "execution_count": 22,
   "metadata": {},
   "outputs": [
    {
     "name": "stdout",
     "output_type": "stream",
     "text": [
      "6\n"
     ]
    }
   ],
   "source": [
    "print(factorial(3))"
   ]
  },
  {
   "cell_type": "code",
   "execution_count": 29,
   "metadata": {},
   "outputs": [
    {
     "name": "stdout",
     "output_type": "stream",
     "text": [
      "0 0.028247524899999984\n",
      "1 0.12106082099999993\n",
      "2 0.23347444049999985\n",
      "3 0.2668279319999999\n",
      "4 0.20012094899999994\n",
      "5 0.10291934519999994\n",
      "6 0.03675690899999998\n",
      "7 0.009001691999999995\n",
      "8 0.0014467004999999993\n",
      "9 0.00013778099999999993\n",
      "10 5.9048999999999975e-06\n",
      "2.099999999999999\n"
     ]
    }
   ],
   "source": [
    "sum=0\n",
    "for i in range(0,11):\n",
    "    a = 0.3 ** i\n",
    "    b = 0.7 ** (10-i)\n",
    "    c = factorial(10)/(factorial(i) * factorial(10-i))\n",
    "    sum+=(i-3)*(i-3)*a*b*c\n",
    "    print(i,a*b*c)\n",
    "print(sum)"
   ]
  },
  {
   "cell_type": "code",
   "execution_count": 32,
   "metadata": {},
   "outputs": [
    {
     "name": "stdout",
     "output_type": "stream",
     "text": [
      "0.01643666036421537\n"
     ]
    }
   ],
   "source": [
    "sum=0\n",
    "for i in range(280,1001):\n",
    "    a = 0.25 ** i\n",
    "    b = 0.75 ** (1000-i)\n",
    "    c = factorial(1000)/(factorial(i) * factorial(1000-i))\n",
    "    sum+=a*b*c\n",
    "print(sum)"
   ]
  }
 ],
 "metadata": {
  "kernelspec": {
   "display_name": "Python 3",
   "language": "python",
   "name": "python3"
  },
  "language_info": {
   "codemirror_mode": {
    "name": "ipython",
    "version": 3
   },
   "file_extension": ".py",
   "mimetype": "text/x-python",
   "name": "python",
   "nbconvert_exporter": "python",
   "pygments_lexer": "ipython3",
   "version": "3.8.2"
  }
 },
 "nbformat": 4,
 "nbformat_minor": 4
}
